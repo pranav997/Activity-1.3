{
 "cells": [
  {
   "cell_type": "code",
   "execution_count": null,
   "metadata": {},
   "outputs": [],
   "source": [
    "import numpy as np\n",
    "import time\n",
    "\n",
    "from qiskit.algorithms.optimizers import SPSA, COBYLA, SLSQP\n",
    "from qiskit import QuantumCircuit\n",
    "from qiskit.circuit import ParameterVector\n",
    "from sklearn.datasets import make_moons\n",
    "\n",
    "from activity_1_figure_utils import data_figure, history_figure, circuits_to_statevectors, bloch_sphere_statevector_figure, classification_figure\n",
    "from activity_1_utils import prepare_all_circuits, train_classifier, classify, spsa_optimizer_callback, eval_cost_fct_quadratic\n",
    "from activity_1_circuits import build_rotation_model_circuit, build_linear_model_circuit, build_layered_model_circuit"
   ]
  },
  {
   "cell_type": "code",
   "execution_count": null,
   "metadata": {},
   "outputs": [],
   "source": [
    "from qiskit import Aer\n",
    "from qiskit.utils import QuantumInstance\n",
    "qasm_simulator = Aer.get_backend('qasm_simulator')\n",
    "statevector_simulator = Aer.get_backend('statevector_simulator')\n",
    "qasm_quantum_instance = QuantumInstance(qasm_simulator, shots = 1000)\n",
    "sv_quantum_instance = QuantumInstance(statevector_simulator)"
   ]
  },
  {
   "cell_type": "code",
   "execution_count": null,
   "metadata": {},
   "outputs": [],
   "source": [
    "n_samples = 100\n",
    "data_xs, data_ys = make_moons(n_samples = n_samples,noise=0.1, random_state=0)"
   ]
  },
  {
   "cell_type": "code",
   "execution_count": null,
   "metadata": {},
   "outputs": [],
   "source": [
    "fig = data_figure(data_xs,data_ys)\n",
    "fig.show()"
   ]
  },
  {
   "cell_type": "code",
   "execution_count": null,
   "metadata": {},
   "outputs": [],
   "source": [
    "# model = 'rotation'\n",
    "# model = 'linear'\n",
    "model = 'layered'\n",
    "if model == 'rotation':\n",
    "    classifier_circuit, data_params, model_params = build_rotation_model_circuit()\n",
    "    initial_point = [0,0]\n",
    "elif model == 'linear':\n",
    "    classifier_circuit, data_params, model_params = build_linear_model_circuit()\n",
    "    initial_point = [0,0,1,1]\n",
    "elif model == 'layered':\n",
    "    n_layers = 4\n",
    "    classifier_circuit, data_params, model_params = build_layered_model_circuit(n_layers)\n",
    "    initial_point = [0,0] * n_layers + [1,1] * n_layers\n",
    "\n",
    "classifier_circuit.draw('mpl',scale = 2)"
   ]
  },
  {
   "cell_type": "code",
   "execution_count": null,
   "metadata": {},
   "outputs": [],
   "source": [
    "t0 = time.time()\n",
    "\n",
    "train_history = []\n",
    "optimizer = SPSA(maxiter=50, callback=lambda n, p, v, ss, sa: spsa_optimizer_callback(n, p, v, ss, sa, train_history))\n",
    "\n",
    "model_values, loss, nfev = train_classifier(optimizer,eval_cost_fct_quadratic,sv_quantum_instance,classifier_circuit,data_params,model_params,data_xs,data_ys,initial_point)\n",
    "\n",
    "fig = history_figure(train_history)\n",
    "fig.show()\n",
    "print(model_values)\n",
    "print(f'{time.time() - t0:.2f} sec')"
   ]
  },
  {
   "cell_type": "code",
   "execution_count": null,
   "metadata": {},
   "outputs": [],
   "source": [
    "all_circuits = prepare_all_circuits(classifier_circuit,data_params,model_params,data_xs,model_values,add_measurements=False)\n",
    "\n",
    "statevectors = circuits_to_statevectors(all_circuits)\n",
    "fig = bloch_sphere_statevector_figure(statevectors,data_ys)\n",
    "fig.show()"
   ]
  },
  {
   "cell_type": "code",
   "execution_count": null,
   "metadata": {},
   "outputs": [],
   "source": [
    "predictions_ys = classify(sv_quantum_instance,classifier_circuit,model_params,model_values,data_params,data_xs)\n",
    "fig = classification_figure(data_xs,data_ys,predictions_ys)\n",
    "fig.show()"
   ]
  },
  {
   "cell_type": "markdown",
   "metadata": {},
   "source": [
    "# Notes\n",
    "Created by Maxime Dion <maxime.dion@usherbrooke.ca>"
   ]
  },
  {
   "cell_type": "markdown",
   "metadata": {},
   "source": []
  }
 ],
 "metadata": {
  "interpreter": {
   "hash": "fbe0312ccdb88cbe18e716ecd89ec9f821ccb075e7b04b51f57345863fd1f522"
  },
  "kernelspec": {
   "display_name": "Python 3 (ipykernel)",
   "language": "python",
   "name": "python3"
  },
  "language_info": {
   "codemirror_mode": {
    "name": "ipython",
    "version": 3
   },
   "file_extension": ".py",
   "mimetype": "text/x-python",
   "name": "python",
   "nbconvert_exporter": "python",
   "pygments_lexer": "ipython3",
   "version": "3.7.11"
  }
 },
 "nbformat": 4,
 "nbformat_minor": 2
}
